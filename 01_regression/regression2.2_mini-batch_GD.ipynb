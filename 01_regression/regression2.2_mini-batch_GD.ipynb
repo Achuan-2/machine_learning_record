{
 "cells": [
  {
   "cell_type": "markdown",
   "metadata": {},
   "source": [
    "使用随机梯度下降算法实现多项式回归  \n",
    "可以参考下https://www.cnblogs.com/HuZihu/p/10829877.html 把代码重构为类\n",
    "$$\n",
    "f_{\\theta}(x)=\\theta_{0}+\\theta_{1} x+\\theta_{2} x^{2}\n",
    "$$\n",
    "$$\n",
    "\\theta_{j}:=\\theta_{j}-\\eta \\sum_{i=1}^{n}\\left(f_{\\theta}\\left(\\boldsymbol{x}^{(i)}\\right)-y^{(i)}\\right) x_{j}^{(i)}\n",
    "$$\n"
   ]
  },
  {
   "cell_type": "code",
   "execution_count": 8,
   "metadata": {},
   "outputs": [],
   "source": [
    "import numpy as np\n",
    "import matplotlib.pyplot as plt\n",
    "import math\n"
   ]
  },
  {
   "cell_type": "code",
   "execution_count": 9,
   "metadata": {},
   "outputs": [],
   "source": [
    "# 读入训练数据\n",
    "train = np.loadtxt('data/click.csv', delimiter=',', dtype='int', skiprows=1)\n",
    "train_x = train[:, 0]\n",
    "train_y = train[:, 1]\n"
   ]
  },
  {
   "cell_type": "code",
   "execution_count": 10,
   "metadata": {},
   "outputs": [],
   "source": [
    "# 标准化\n",
    "mu = train_x.mean()\n",
    "sigma = train_x.std()\n",
    "\n",
    "\n",
    "def standardize(x):\n",
    "    return (x - mu) / sigma\n",
    "\n",
    "\n",
    "train_z = standardize(train_x)\n"
   ]
  },
  {
   "cell_type": "code",
   "execution_count": 11,
   "metadata": {},
   "outputs": [],
   "source": [
    "# 创建训练数据的矩阵\n",
    "def to_matrix(x):\n",
    "    return np.vstack([np.ones(x.size), x, x ** 2]).T\n",
    "\n",
    "X = to_matrix(train_z)\n"
   ]
  },
  {
   "cell_type": "code",
   "execution_count": 12,
   "metadata": {},
   "outputs": [],
   "source": [
    "# 预测函数\n",
    "def f(x):\n",
    "    return np.dot(x, theta)\n",
    "\n",
    "# 均方误差\n",
    "\n",
    "\n",
    "def MSE(x, y):\n",
    "    return (1 / x.shape[0]) * np.sum((y - f(x)) ** 2)"
   ]
  },
  {
   "cell_type": "code",
   "execution_count": null,
   "metadata": {},
   "outputs": [],
   "source": [
    "def random_mini_batches(X, Y, mini_batch_size=64, seed=0):\n",
    "    '''\n",
    "    输入：X的维度是（n,m），n是样本数，m是每个样本的特征数\n",
    "    '''\n",
    "    np.random.seed(seed)\n",
    "    n = X.shape[0]\n",
    "    mini_batches = []\n",
    "    #step1：打乱训练集\n",
    "    #生成0~m-1随机顺序的值，作为我们的下标\n",
    "    permutation = list(np.random.permutation(n))\n",
    "    #得到打乱后的训练集\n",
    "    shuffled_X = X[permutation, :]\n",
    "    shuffled_Y = Y[permutation]\n",
    "    #step2：按照batchsize分割训练集\n",
    "    #得到总的子集数目，math.floor表示向下取整\n",
    "    num_complete_minibatches = math.floor(n / mini_batch_size)\n",
    "    for k in range(0, num_complete_minibatches):\n",
    "        #冒号：表示取所有行，第二个参数a：b表示取第a列到b-1列，不包括b\n",
    "        mini_batch_X = shuffled_X[k *\n",
    "                                  mini_batch_size:(k+1) * mini_batch_size, :]\n",
    "        mini_batch_Y = shuffled_Y[k * mini_batch_size:(k+1) * mini_batch_size]\n",
    "\n",
    "        mini_batch = (mini_batch_X, mini_batch_Y)\n",
    "        mini_batches.append(mini_batch)\n",
    "    #m%mini_batch_size != 0表示还有剩余的不够一个batch大小，把剩下的作为一个batch\n",
    "    if n % mini_batch_size != 0:\n",
    "        mini_batch_X = shuffled_X[mini_batch_size *\n",
    "                                  num_complete_minibatches:, :]\n",
    "        mini_batch_Y = shuffled_Y[mini_batch_size * num_complete_minibatches:]\n",
    "\n",
    "        mini_batch = (mini_batch_X, mini_batch_Y)\n",
    "        mini_batches.append(mini_batch)\n",
    "\n",
    "    return mini_batches\n"
   ]
  },
  {
   "cell_type": "code",
   "execution_count": 22,
   "metadata": {},
   "outputs": [
    {
     "name": "stdout",
     "output_type": "stream",
     "text": [
      "Epoch 1 : theta = [40.21908272  9.37526456 39.81501739], diff = 62867.1466\n",
      "Epoch 2 : theta = [72.57421968 17.80356176 68.20161572], diff = 37743.6904\n",
      "Epoch 3 : theta = [99.44000813 25.58719756 88.22740098], diff = 23242.8658\n",
      "Epoch 4 : theta = [122.05943887  32.73847865 102.01065686], diff = 14804.9244\n",
      "Epoch 5 : theta = [141.37427441  39.28113895 111.14506224], diff = 9836.2311\n",
      "Epoch 6 : theta = [158.09903581  45.24611744 116.82911963], diff = 6860.1919\n",
      "Epoch 7 : theta = [172.77676668  50.66851248 119.9636722 ], diff = 5035.0692\n",
      "Epoch 8 : theta = [185.82106559  55.58540958 121.22537637], diff = 3880.1138\n",
      "Epoch 9 : theta = [197.54777091  60.03435545 121.12205767], diff = 3119.9852\n",
      "Epoch 10 : theta = [208.1988479   64.05230838 120.0344164 ], diff = 2596.3451\n",
      "Epoch 11 : theta = [217.96039965  67.67493784 118.24744821], diff = 2217.6000\n",
      "Epoch 12 : theta = [226.9762494   70.93617851 115.97411531], diff = 1930.3144\n",
      "Epoch 13 : theta = [235.35818539  73.86796814 113.37317894], diff = 1702.9373\n",
      "Epoch 14 : theta = [243.19369014  76.50011679 110.56263255], diff = 1516.5254\n",
      "Epoch 15 : theta = [250.55177371  78.86026866 107.62982035], diff = 1359.4463\n",
      "Epoch 16 : theta = [257.48737773  80.97392779 104.63905855], diff = 1224.3470\n",
      "Epoch 17 : theta = [264.04470196  82.86452675 101.63737507], diff = 1106.4106\n",
      "Epoch 18 : theta = [270.25971839  84.55352284  98.65883155], diff = 1002.3506\n",
      "Epoch 19 : theta = [276.16207286  86.06051082  95.72777744], diff = 909.8254\n",
      "Epoch 20 : theta = [281.77652454  87.40334418  92.86129945], diff = 827.0934\n",
      "Epoch 21 : theta = [287.12403692  88.59825933  90.07106476], diff = 752.8085\n",
      "Epoch 22 : theta = [292.22260576  89.65999884  87.36470774], diff = 685.8948\n",
      "Epoch 23 : theta = [297.08788854  90.60193108  84.74687262], diff = 625.4690\n",
      "Epoch 24 : theta = [301.7336839   91.43616459  82.21999705], diff = 570.7909\n",
      "Epoch 25 : theta = [306.1722979   92.1736561   79.78490064], diff = 521.2300\n",
      "Epoch 26 : theta = [310.41482458  92.82431167  77.44122644], diff = 476.2431\n",
      "Epoch 27 : theta = [314.47136173  93.39708079  75.18777188], diff = 435.3575\n",
      "Epoch 28 : theta = [318.35117759  93.9000433   73.02273638], diff = 398.1591\n",
      "Epoch 29 : theta = [322.06284037  94.34048956  70.94390624], diff = 364.2833\n",
      "Epoch 30 : theta = [325.61431942  94.7249939   68.94879246], diff = 333.4073\n",
      "Epoch 31 : theta = [329.01306502  95.05948188  67.034733  ], diff = 305.2442\n",
      "Epoch 32 : theta = [332.26607172  95.34929172  65.19896842], diff = 279.5385\n",
      "Epoch 33 : theta = [335.37992918  95.5992302   63.4386975 ], diff = 256.0616\n",
      "Epoch 34 : theta = [338.36086337  95.81362358  61.75111782], diff = 234.6089\n",
      "Epoch 35 : theta = [341.21477041  95.99636386  60.13345504], diff = 214.9964\n",
      "Epoch 36 : theta = [343.94724473  96.15095072  58.58298376], diff = 197.0585\n",
      "Epoch 37 : theta = [346.56360267  96.28052961  57.0970421 ], diff = 180.6460\n",
      "Epoch 38 : theta = [349.06890273  96.38792621  55.67304153], diff = 165.6238\n",
      "Epoch 39 : theta = [351.46796303  96.4756777   54.30847324], diff = 151.8701\n",
      "Epoch 40 : theta = [353.76537654  96.54606096  53.00091187], diff = 139.2743\n",
      "Epoch 41 : theta = [355.96552464  96.60111821  51.74801741], diff = 127.7359\n",
      "Epoch 42 : theta = [358.0725892   96.64268008  50.5475356 ], diff = 117.1640\n",
      "Epoch 43 : theta = [360.09056355  96.67238652  49.39729743], diff = 107.4756\n",
      "Epoch 44 : theta = [362.02326244  96.69170571  48.29521781], diff = 98.5954\n",
      "Epoch 45 : theta = [363.87433119  96.70195108  47.23929379], diff = 90.4547\n",
      "Epoch 46 : theta = [365.64725417  96.70429675  46.22760246], diff = 82.9908\n",
      "Epoch 47 : theta = [367.34536267  96.69979141  45.25829848], diff = 76.1466\n",
      "Epoch 48 : theta = [368.97184224  96.68937091  44.32961166], diff = 69.8701\n",
      "Epoch 49 : theta = [370.52973959  96.67386961  43.43984431], diff = 64.1134\n",
      "Epoch 50 : theta = [372.02196903  96.65403055  42.58736863], diff = 58.8331\n",
      "Epoch 51 : theta = [373.45131864  96.63051473  41.77062413], diff = 53.9894\n",
      "Epoch 52 : theta = [374.82045597  96.60390943  40.98811498], diff = 49.5459\n",
      "Epoch 53 : theta = [376.13193355  96.57473568  40.23840754], diff = 45.4693\n",
      "Epoch 54 : theta = [377.38819405  96.54345509  39.52012784], diff = 41.7290\n",
      "Epoch 55 : theta = [378.59157518  96.5104759   38.83195924], diff = 38.2972\n",
      "Epoch 56 : theta = [379.74431439  96.47615851  38.17264003], diff = 35.1482\n",
      "Epoch 57 : theta = [380.84855329  96.44082043  37.54096123], diff = 32.2586\n",
      "Epoch 58 : theta = [381.90634189  96.40474074  36.93576443], diff = 29.6070\n",
      "Epoch 59 : theta = [382.91964261  96.36816414  36.35593966], diff = 27.1738\n",
      "Epoch 60 : theta = [383.89033413  96.33130451  35.80042344], diff = 24.9407\n",
      "Epoch 61 : theta = [384.82021507  96.29434826  35.26819679], diff = 22.8914\n",
      "Epoch 62 : theta = [385.71100742  96.2574572   34.75828343], diff = 21.0107\n",
      "Epoch 63 : theta = [386.56435993  96.22077117  34.26974797], diff = 19.2847\n",
      "Epoch 64 : theta = [387.38185126  96.1844105   33.80169421], diff = 17.7005\n",
      "Epoch 65 : theta = [388.16499299  96.14847806  33.35326351], diff = 16.2466\n",
      "Epoch 66 : theta = [388.91523259  96.11306121  32.92363322], diff = 14.9122\n",
      "Epoch 67 : theta = [389.63395609  96.07823353  32.51201514], diff = 13.6875\n",
      "Epoch 68 : theta = [390.32249079  96.0440564   32.11765414], diff = 12.5634\n",
      "Epoch 69 : theta = [390.98210777  96.0105803   31.73982674], diff = 11.5317\n",
      "Epoch 70 : theta = [391.61402429  95.97784618  31.37783977], diff = 10.5847\n",
      "Epoch 71 : theta = [392.21940612  95.94588648  31.03102914], diff = 9.7155\n",
      "Epoch 72 : theta = [392.79936972  95.91472618  30.69875857], diff = 8.9178\n",
      "Epoch 73 : theta = [393.35498435  95.8843837   30.38041848], diff = 8.1855\n",
      "Epoch 74 : theta = [393.88727411  95.8548717   30.07542484], diff = 7.5134\n",
      "Epoch 75 : theta = [394.39721983  95.82619779  29.7832181 ], diff = 6.8965\n",
      "Epoch 76 : theta = [394.88576097  95.79836519  29.50326216], diff = 6.3303\n",
      "Epoch 77 : theta = [395.35379732  95.77137329  29.23504342], diff = 5.8105\n",
      "Epoch 78 : theta = [395.80219071  95.74521819  28.97806978], diff = 5.3335\n",
      "Epoch 79 : theta = [396.23176665  95.71989314  28.73186981], diff = 4.8956\n",
      "Epoch 80 : theta = [396.64331584  95.69538894  28.4959918 ], diff = 4.4936\n",
      "Epoch 81 : theta = [397.03759565  95.67169432  28.27000302], diff = 4.1247\n",
      "Epoch 82 : theta = [397.41533157  95.64879626  28.05348885], diff = 3.7861\n",
      "Epoch 83 : theta = [397.77721851  95.62668028  27.84605208], diff = 3.4753\n",
      "Epoch 84 : theta = [398.12392212  95.60533068  27.64731212], diff = 3.1899\n",
      "Epoch 85 : theta = [398.45608004  95.58473079  27.45690437], diff = 2.9281\n",
      "Epoch 86 : theta = [398.77430308  95.56486315  27.27447949], diff = 2.6877\n",
      "Epoch 87 : theta = [399.07917632  95.54570967  27.09970281], diff = 2.4670\n",
      "Epoch 88 : theta = [399.37126026  95.52725184  26.93225366], diff = 2.2645\n",
      "Epoch 89 : theta = [399.65109179  95.50947079  26.77182485], diff = 2.0786\n",
      "Epoch 90 : theta = [399.91918526  95.49234749  26.61812204], diff = 1.9079\n",
      "Epoch 91 : theta = [400.17603337  95.47586279  26.47086325], diff = 1.7513\n",
      "Epoch 92 : theta = [400.4221081   95.45999752  26.32977831], diff = 1.6075\n",
      "Epoch 93 : theta = [400.65786162  95.44473262  26.19460837], diff = 1.4756\n",
      "Epoch 94 : theta = [400.88372707  95.43004912  26.06510546], diff = 1.3544\n",
      "Epoch 95 : theta = [401.10011941  95.4159283   25.94103198], diff = 1.2432\n",
      "Epoch 96 : theta = [401.30743614  95.40235163  25.8221603 ], diff = 1.1412\n",
      "Epoch 97 : theta = [401.50605808  95.38930091  25.70827233], diff = 1.0475\n",
      "Epoch 98 : theta = [401.69635005  95.37675825  25.59915913], diff = 0.9615\n",
      "Epoch 99 : theta = [401.87866155  95.36470609  25.49462053], diff = 0.8826\n",
      "Epoch 100 : theta = [402.0533274   95.35312727  25.39446472], diff = 0.8101\n",
      "Epoch 101 : theta = [402.22066834  95.34200502  25.29850796], diff = 0.7436\n",
      "Epoch 102 : theta = [402.38099169  95.33132296  25.2065742 ], diff = 0.6826\n",
      "Epoch 103 : theta = [402.53459181  95.32106516  25.11849478], diff = 0.6265\n",
      "Epoch 104 : theta = [402.68175074  95.31121608  25.0341081 ], diff = 0.5751\n",
      "Epoch 105 : theta = [402.82273867  95.30176065  24.95325935], diff = 0.5279\n",
      "Epoch 106 : theta = [402.95781445  95.29268421  24.8758002 ], diff = 0.4846\n",
      "Epoch 107 : theta = [403.08722607  95.28397255  24.80158853], diff = 0.4448\n",
      "Epoch 108 : theta = [403.2112111   95.27561189  24.7304882 ], diff = 0.4083\n",
      "Epoch 109 : theta = [403.32999713  95.26758888  24.66236876], diff = 0.3747\n",
      "Epoch 110 : theta = [403.44380224  95.2598906   24.59710524], diff = 0.3440\n",
      "Epoch 111 : theta = [403.55283533  95.25250455  24.53457791], diff = 0.3157\n",
      "Epoch 112 : theta = [403.65729652  95.24541866  24.47467204], diff = 0.2898\n",
      "Epoch 113 : theta = [403.75737756  95.23862125  24.41727774], diff = 0.2660\n",
      "Epoch 114 : theta = [403.85326215  95.23210106  24.3622897 ], diff = 0.2442\n",
      "Epoch 115 : theta = [403.94512628  95.22584721  24.30960705], diff = 0.2241\n",
      "Epoch 116 : theta = [404.03313855  95.2198492   24.25913312], diff = 0.2057\n",
      "Epoch 117 : theta = [404.11746049  95.21409693  24.21077532], diff = 0.1889\n",
      "Epoch 118 : theta = [404.19824686  95.20858063  24.16444493], diff = 0.1734\n",
      "Epoch 119 : theta = [404.27564593  95.20329092  24.12005695], diff = 0.1591\n",
      "Epoch 120 : theta = [404.34979973  95.19821874  24.07752994], diff = 0.1461\n",
      "Epoch 121 : theta = [404.42084436  95.19335539  24.03678589], diff = 0.1341\n",
      "Epoch 122 : theta = [404.48891018  95.18869247  23.99775003], diff = 0.1231\n",
      "Epoch 123 : theta = [404.55412212  95.18422191  23.96035076], diff = 0.1130\n",
      "Epoch 124 : theta = [404.61659985  95.17993596  23.92451946], diff = 0.1037\n",
      "Epoch 125 : theta = [404.676458    95.17582713  23.89019039], diff = 0.0952\n",
      "Epoch 126 : theta = [404.73380644  95.17188826  23.85730058], diff = 0.0874\n",
      "Epoch 127 : theta = [404.78875039  95.16811244  23.82578968], diff = 0.0802\n",
      "Epoch 128 : theta = [404.84139067  95.16449303  23.79559987], diff = 0.0736\n",
      "Epoch 129 : theta = [404.89182388  95.16102366  23.76667578], diff = 0.0676\n",
      "Epoch 130 : theta = [404.94014256  95.1576982   23.73896433], diff = 0.0620\n",
      "Epoch 131 : theta = [404.98643538  95.15451076  23.7124147 ], diff = 0.0569\n",
      "Epoch 132 : theta = [405.03078728  95.1514557   23.68697816], diff = 0.0523\n",
      "Epoch 133 : theta = [405.07327963  95.14852758  23.66260805], diff = 0.0480\n",
      "Epoch 134 : theta = [405.11399042  95.1457212   23.63925966], diff = 0.0440\n",
      "Epoch 135 : theta = [405.15299434  95.14303154  23.61689016], diff = 0.0404\n",
      "Epoch 136 : theta = [405.19036295  95.1404538   23.5954585 ], diff = 0.0371\n",
      "Epoch 137 : theta = [405.22616482  95.13798338  23.57492537], diff = 0.0340\n",
      "Epoch 138 : theta = [405.26046565  95.13561584  23.55525309], diff = 0.0313\n",
      "Epoch 139 : theta = [405.29332836  95.13334693  23.53640557], diff = 0.0287\n",
      "Epoch 140 : theta = [405.32481327  95.13117259  23.51834824], diff = 0.0263\n",
      "Epoch 141 : theta = [405.35497812  95.12908891  23.50104797], diff = 0.0242\n",
      "Epoch 142 : theta = [405.38387828  95.12709212  23.48447302], diff = 0.0222\n",
      "Epoch 143 : theta = [405.41156677  95.12517863  23.46859297], diff = 0.0204\n",
      "Epoch 144 : theta = [405.43809439  95.12334499  23.45337869], diff = 0.0187\n",
      "Epoch 145 : theta = [405.4635098   95.12158789  23.43880228], diff = 0.0172\n",
      "Epoch 146 : theta = [405.48785965  95.11990415  23.42483699], diff = 0.0158\n",
      "Epoch 147 : theta = [405.51118862  95.11829072  23.41145719], diff = 0.0145\n",
      "Epoch 148 : theta = [405.53353949  95.11674468  23.39863834], diff = 0.0133\n",
      "Epoch 149 : theta = [405.55495328  95.11526324  23.38635692], diff = 0.0122\n",
      "Epoch 150 : theta = [405.57546928  95.1138437   23.37459041], diff = 0.0112\n",
      "Epoch 151 : theta = [405.59512514  95.11248349  23.36331721], diff = 0.0103\n",
      "Epoch 152 : theta = [405.6139569   95.11118014  23.35251664], diff = 0.0094\n"
     ]
    }
   ],
   "source": [
    "# 定义参数\n",
    "ETA = 1e-3\n",
    "seed=0\n",
    "max_epoch=700\n",
    "eplison=1e-2\n",
    "mini_batch_size = 4\n",
    "\n",
    "\n",
    "# 参数初始化\n",
    "theta = np.random.rand(3)\n",
    "error = MSE(X, train_y)\n",
    "errors = []\n",
    "epoch = 0\n",
    "errors.append(error)\n",
    "while epoch < max_epoch:\n",
    "    seed = seed + 1\n",
    "    minibatches = random_mini_batches(X, train_y, mini_batch_size, seed)\n",
    "\n",
    "    for minibatch in minibatches:\n",
    "        (minibatch_X, minibatch_Y) = minibatch\n",
    "        theta = theta - ETA * np.dot(f(X) - train_y, X)\n",
    "    errors.append(MSE(X, train_y))\n",
    "    diff = errors[-2]-errors[-1]\n",
    "    epoch +=1\n",
    "    log = 'Epoch {} : theta = {}, diff = {:.4f}'\n",
    "    print(log.format(epoch, theta, diff))\n",
    "    if diff < eplison:\n",
    "        break\n"
   ]
  },
  {
   "cell_type": "code",
   "execution_count": 23,
   "metadata": {},
   "outputs": [
    {
     "data": {
      "image/png": "[encoded data removed]",
      "text/plain": [
       "<Figure size 432x288 with 1 Axes>"
      ]
     },
     "metadata": {
      "needs_background": "light"
     },
     "output_type": "display_data"
    }
   ],
   "source": [
    "# 绘图确认\n",
    "x = np.linspace(-3, 3, 100)\n",
    "plt.plot(train_z, train_y, 'o')\n",
    "plt.plot(x, f(to_matrix(x)))\n",
    "plt.show()\n"
   ]
  },
  {
   "cell_type": "code",
   "execution_count": 24,
   "metadata": {},
   "outputs": [
    {
     "data": {
      "image/png": "[encoded data removed]",
      "text/plain": [
       "<Figure size 432x288 with 1 Axes>"
      ]
     },
     "metadata": {
      "needs_background": "light"
     },
     "output_type": "display_data"
    }
   ],
   "source": [
    "# MSE 不断在下降\n",
    "plt.clf()\n",
    "x = np.arange(len(errors))\n",
    "plt.plot(x, errors)\n",
    "plt.show()\n"
   ]
  }
 ],
 "metadata": {
  "interpreter": {
   "hash": "3c3b1f68f84beab8382f21a915ede04862a3ee36b0db72f203c6e0d4c6345b06"
  },
  "kernelspec": {
   "display_name": "Python 3.8.5 64-bit ('base': conda)",
   "language": "python",
   "name": "python3"
  },
  "language_info": {
   "codemirror_mode": {
    "name": "ipython",
    "version": 3
   },
   "file_extension": ".py",
   "mimetype": "text/x-python",
   "name": "python",
   "nbconvert_exporter": "python",
   "pygments_lexer": "ipython3",
   "version": "3.8.5"
  },
  "orig_nbformat": 4
 },
 "nbformat": 4,
 "nbformat_minor": 2
}
