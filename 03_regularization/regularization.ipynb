{
 "cells": [
  {
   "cell_type": "markdown",
   "metadata": {},
   "source": [
    "避免过拟合的手段\n",
    "\n",
    "* 增加全部训练数据的数量\n",
    "* 使用简单的模型\n",
    "* 正则化\n",
    "其中正则化是为了防止过拟合加的惩罚，使得参数的值不至于过大，让模型尽可能简单，尽量往 0 靠（L2正则化），或者干脆让某些参数为 0（L1 正则化）"
   ]
  },
  {
   "cell_type": "code",
   "execution_count": 6,
   "metadata": {},
   "outputs": [],
   "source": [
    "import numpy as np\n",
    "import matplotlib.pyplot as plt\n"
   ]
  },
  {
   "cell_type": "markdown",
   "metadata": {},
   "source": [
    "## 1 Data Cleaning"
   ]
  },
  {
   "cell_type": "code",
   "execution_count": 7,
   "metadata": {},
   "outputs": [],
   "source": [
    "# 真正的函数\n",
    "def g(x):\n",
    "    return 0.1 * (x ** 3 + x ** 2 + x)\n",
    "\n",
    "# 随意准备一些向真正的函数加入了一点噪声的训练数据\n",
    "train_x = np.linspace(-2, 2, 8)\n",
    "train_y = g(train_x) + np.random.randn(train_x.size) * 0.05\n",
    "\n",
    "# 标准化\n",
    "mu = train_x.mean()\n",
    "sigma = train_x.std()\n",
    "\n",
    "\n",
    "def standardize(x):\n",
    "    return (x - mu) / sigma\n",
    "\n",
    "\n",
    "train_z = standardize(train_x)\n",
    "# 创建训练数据的矩阵\n",
    "\n",
    "\n",
    "def to_matrix(x):\n",
    "    return np.vstack([\n",
    "        np.ones(x.size),\n",
    "        x,\n",
    "        x ** 2,\n",
    "        x ** 3,\n",
    "        x ** 4,\n",
    "        x ** 5,\n",
    "        x ** 6,\n",
    "        x ** 7,\n",
    "        x ** 8,\n",
    "        x ** 9,\n",
    "        x ** 10\n",
    "    ]).T\n",
    "\n",
    "\n",
    "X = to_matrix(train_z)\n"
   ]
  },
  {
   "cell_type": "markdown",
   "metadata": {},
   "source": [
    "## 2 Modeling"
   ]
  },
  {
   "cell_type": "code",
   "execution_count": 8,
   "metadata": {},
   "outputs": [],
   "source": [
    "# 参数初始化\n",
    "theta = np.random.randn(X.shape[1])\n",
    "\n",
    "# 预测函数\n",
    "def f(x):\n",
    "    return np.dot(x, theta)\n",
    "\n",
    "# 目标函数\n",
    "def E(x, y):\n",
    "    return 0.5 * np.sum((y - f(x)) ** 2)\n",
    "\n",
    "# 正则化常量\n",
    "LAMBDA = 0.5\n",
    "\n",
    "# 学习率\n",
    "ETA = 1e-4\n",
    "\n",
    "# 误差\n",
    "diff = 1"
   ]
  },
  {
   "cell_type": "code",
   "execution_count": 9,
   "metadata": {},
   "outputs": [],
   "source": [
    "\n",
    "# 重复学习（不应用正则化）\n",
    "error = E(X, train_y)\n",
    "while diff > 1e-6:\n",
    "    theta = theta - ETA * (np.dot(f(X) - train_y, X))\n",
    "\n",
    "    current_error = E(X, train_y)\n",
    "    diff = error - current_error\n",
    "    error = current_error\n",
    "\n",
    "theta1 = theta\n",
    "\n",
    "# 重复学习（应用正则化）\n",
    "theta = np.random.randn(X.shape[1])\n",
    "diff = 1\n",
    "error = E(X, train_y)\n",
    "while diff > 1e-6:\n",
    "    reg_term = LAMBDA * np.hstack([0, theta[1:]])\n",
    "    theta = theta - ETA * (np.dot(f(X) - train_y, X) + reg_term)\n",
    "\n",
    "    current_error = E(X, train_y)\n",
    "    diff = error - current_error\n",
    "    error = current_error\n",
    "\n",
    "theta2 = theta"
   ]
  },
  {
   "cell_type": "code",
   "execution_count": 10,
   "metadata": {},
   "outputs": [
    {
     "data": {
      "image/png": "[encoded data removed]",
      "text/plain": [
       "<Figure size 432x288 with 1 Axes>"
      ]
     },
     "metadata": {
      "needs_background": "light"
     },
     "output_type": "display_data"
    }
   ],
   "source": [
    "# 绘图确认\n",
    "plt.plot(train_z, train_y, 'o')\n",
    "z = standardize(np.linspace(-2, 2, 100))\n",
    "theta = theta1 # 未应用正则化\n",
    "plt.plot(z, f(to_matrix(z)), linestyle='dashed')\n",
    "theta = theta2 # 应用正则化\n",
    "plt.plot(z, f(to_matrix(z)))\n",
    "plt.show()\n"
   ]
  }
 ],
 "metadata": {
  "interpreter": {
   "hash": "3c3b1f68f84beab8382f21a915ede04862a3ee36b0db72f203c6e0d4c6345b06"
  },
  "kernelspec": {
   "display_name": "Python 3.8.5 64-bit ('base': conda)",
   "language": "python",
   "name": "python3"
  },
  "language_info": {
   "codemirror_mode": {
    "name": "ipython",
    "version": 3
   },
   "file_extension": ".py",
   "mimetype": "text/x-python",
   "name": "python",
   "nbconvert_exporter": "python",
   "pygments_lexer": "ipython3",
   "version": "3.8.5"
  },
  "orig_nbformat": 4
 },
 "nbformat": 4,
 "nbformat_minor": 2
}
